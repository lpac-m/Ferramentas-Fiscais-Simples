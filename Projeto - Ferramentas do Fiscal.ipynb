{
 "cells": [
  {
   "cell_type": "code",
   "execution_count": 1,
   "id": "0edf4229",
   "metadata": {},
   "outputs": [
    {
     "ename": "SyntaxError",
     "evalue": "invalid syntax (871326599.py, line 1)",
     "output_type": "error",
     "traceback": [
      "\u001b[1;36m  Cell \u001b[1;32mIn[1], line 1\u001b[1;36m\u001b[0m\n\u001b[1;33m    nano retencao-calc.py\u001b[0m\n\u001b[1;37m         ^\u001b[0m\n\u001b[1;31mSyntaxError\u001b[0m\u001b[1;31m:\u001b[0m invalid syntax\n"
     ]
    }
   ],
   "source": [
    "nano retencao-calc.py"
   ]
  },
  {
   "cell_type": "code",
   "execution_count": 4,
   "id": "68e7f78a",
   "metadata": {},
   "outputs": [
    {
     "name": "stdout",
     "output_type": "stream",
     "text": [
      "Valor do Serviço prestado: 500\n",
      "Aliquota PIS: 0,65\n",
      "Aliquota CSSL: 1\n",
      "Aliquota IRRF: 1,5\n",
      "Aliquota COFINS: 3\n"
     ]
    }
   ],
   "source": [
    "valor_serv = input('Valor do Serviço prestado: ')\n",
    "pis_aliq = input('Aliquota PIS: ')\n",
    "cssl_aliq = input('Aliquota CSSL: ')\n",
    "irrf_aliq = input('Aliquota IRRF: ')\n",
    "cofins_aliq = input('Aliquota COFINS: ')"
   ]
  },
  {
   "cell_type": "code",
   "execution_count": 10,
   "id": "8f1c8c0e",
   "metadata": {},
   "outputs": [
    {
     "name": "stdout",
     "output_type": "stream",
     "text": [
      "Valor do Serviço prestado: 500\n",
      "Aliquota PIS: 0.65\n",
      "Aliquota CSSL: 1\n",
      "Aliquota IRRF: 1.5\n",
      "Aliquota COFINS: 3\n",
      "3.2500000000000004\n",
      "5.0\n",
      "7.5\n",
      "15.0\n",
      "469.25\n"
     ]
    }
   ],
   "source": [
    "valor_serv = float(input('Valor do Serviço prestado: '))\n",
    "pis_aliq = float(input('Aliquota PIS: '))\n",
    "cssl_aliq = float(input('Aliquota CSSL: '))\n",
    "irrf_aliq = float(input('Aliquota IRRF: '))\n",
    "cofins_aliq = float(input('Aliquota COFINS: '))\n",
    "\n",
    "ret_pis =  valor_serv*(pis_aliq/100)\n",
    "ret_cssl = valor_serv*(cssl_aliq/100)\n",
    "ret_irrf = valor_serv*(irrf_aliq/100)\n",
    "ret_cofins = valor_serv*(cofins_aliq/100)\n",
    "valor_nota = valor_serv-(ret_pis+ret_cssl+ret_irrf+ret_cofins)\n",
    "\n",
    "print(ret_pis)\n",
    "print(ret_cssl)\n",
    "print(ret_irrf)\n",
    "print(ret_cofins)\n",
    "print(valor_nota)"
   ]
  },
  {
   "cell_type": "code",
   "execution_count": 15,
   "id": "c860be53",
   "metadata": {},
   "outputs": [
    {
     "name": "stdout",
     "output_type": "stream",
     "text": [
      "Valor do Serviço prestado: 100\n",
      "Aliquota PIS: 0.65\n",
      "Aliquota CSSL: 1\n",
      "Aliquota IRRF: 1.5\n",
      "Aliquota COFINS: 3\n",
      "0.65\n",
      "1.0\n",
      "1.5\n",
      "3.0\n",
      "93.85\n",
      "Deseja calcular de novo? S/N: n\n",
      "Até logo\n"
     ]
    }
   ],
   "source": [
    "def retencao_calc():\n",
    "    valor_serv = float(input('Valor do Serviço prestado: '))\n",
    "    pis_aliq = float(input('Aliquota PIS: '))\n",
    "    cssl_aliq = float(input('Aliquota CSSL: '))\n",
    "    irrf_aliq = float(input('Aliquota IRRF: '))\n",
    "    cofins_aliq = float(input('Aliquota COFINS: '))\n",
    "    \n",
    "    ret_pis =  valor_serv*(pis_aliq/100)\n",
    "    ret_cssl = valor_serv*(cssl_aliq/100)\n",
    "    ret_irrf = valor_serv*(irrf_aliq/100)\n",
    "    ret_cofins = valor_serv*(cofins_aliq/100)\n",
    "    valor_nota = valor_serv-(ret_pis+ret_cssl+ret_irrf+ret_cofins)\n",
    "\n",
    "    print(ret_pis)\n",
    "    print(ret_cssl)\n",
    "    print(ret_irrf)\n",
    "    print(ret_cofins)\n",
    "    print(valor_nota)\n",
    "    \n",
    "    again()\n",
    "    \n",
    "def again():\n",
    "    calc_again = input('Deseja calcular de novo? S/N: ')\n",
    "    \n",
    "    if calc_again == \"s\":\n",
    "        retencao_calc()\n",
    "        \n",
    "    else:\n",
    "        print(\"Até logo\")\n",
    "        \n",
    "retencao_calc()\n"
   ]
  },
  {
   "cell_type": "code",
   "execution_count": 23,
   "id": "b9a911d6",
   "metadata": {},
   "outputs": [
    {
     "name": "stdout",
     "output_type": "stream",
     "text": [
      "Número da primeira nota: 155\n",
      "Valor da nota: 45\n",
      "Valor da nota: 25\n",
      "Valor da nota: 15\n",
      "Valor da nota: 15\n",
      "Valor da nota: 0\n",
      "Somatório das notas 155 a 159\n",
      "valor total: 100.0\n",
      "[45.0, 25.0, 15.0, 15.0]\n"
     ]
    }
   ],
   "source": [
    "def seried_calc():\n",
    "    notas_somadas = []\n",
    "    valor_total = 0\n",
    "    first_nota = int(input('Número da primeira nota: '))\n",
    "    last_nota = first_nota\n",
    "    nota = float(input('Valor da nota: '))\n",
    "    while nota != 0:\n",
    "        notas_somadas.append(nota)\n",
    "        valor_total += nota\n",
    "        last_nota += 1\n",
    "        nota = float(input('Valor da nota: '))\n",
    "    else:\n",
    "        print(\"Somatório das notas \"+str(first_nota)+\" a \"+str(last_nota))\n",
    "        print(\"valor total: \"+str(valor_total))\n",
    "        print(notas_somadas)\n",
    "        \n",
    "seried_calc()\n",
    "        "
   ]
  },
  {
   "cell_type": "code",
   "execution_count": null,
   "id": "5ee9d567",
   "metadata": {},
   "outputs": [
    {
     "name": "stdout",
     "output_type": "stream",
     "text": [
      "\"\n",
      "    Olá, essas são as ferramentas disponiveis:\n",
      "    1. Calculadora de Imposto retido\n",
      "    2. Calculadora de Serie D\n",
      "    \n",
      "Escolha uma ferramenta: 1\n",
      "Valor do Serviço prestado: 500\n",
      "Aliquota PIS: 0.65\n",
      "Aliquota CSSL: 1\n",
      "Aliquota IRRF: 1.5\n",
      "Aliquota COFINS: 3\n",
      "3.2500000000000004\n",
      "5.0\n",
      "7.5\n",
      "15.0\n",
      "469.25\n",
      "Deseja calcular de novo? S/N: s\n",
      "\"\n",
      "    Olá, essas são as ferramentas disponiveis:\n",
      "    1. Calculadora de Imposto retido\n",
      "    2. Calculadora de Serie D\n",
      "    \n",
      "Escolha uma ferramenta: 2\n",
      "Número da primeira nota: 155\n",
      "Valor da nota: 45.6\n",
      "Valor da nota: 514.89\n",
      "Valor da nota: 56\n",
      "Valor da nota: 894.64\n",
      "Valor da nota: 78\n",
      "Valor da nota: 0\n",
      "Somatório das notas 155 a 160\n",
      "valor total: 1589.13\n",
      "[45.6, 514.89, 56.0, 894.64, 78.0]\n"
     ]
    }
   ],
   "source": [
    "#Definido a ferramenta de Imposto Retido na Nota\n",
    "def retencao_calc():\n",
    "    valor_serv = float(input('Valor do Serviço prestado: '))\n",
    "    pis_aliq = float(input('Aliquota PIS: '))\n",
    "    cssl_aliq = float(input('Aliquota CSSL: '))\n",
    "    irrf_aliq = float(input('Aliquota IRRF: '))\n",
    "    cofins_aliq = float(input('Aliquota COFINS: '))\n",
    "    \n",
    "    ret_pis =  valor_serv*(pis_aliq/100)\n",
    "    ret_cssl = valor_serv*(cssl_aliq/100)\n",
    "    ret_irrf = valor_serv*(irrf_aliq/100)\n",
    "    ret_cofins = valor_serv*(cofins_aliq/100)\n",
    "    valor_nota = valor_serv-(ret_pis+ret_cssl+ret_irrf+ret_cofins)\n",
    "\n",
    "    print(ret_pis)\n",
    "    print(ret_cssl)\n",
    "    print(ret_irrf)\n",
    "    print(ret_cofins)\n",
    "    print(valor_nota)\n",
    "    \n",
    "    again()\n",
    "\n",
    "#definindo a ferramenta de Calcular Serie D\n",
    "def seried_calc():\n",
    "    notas_somadas = []\n",
    "    valor_total = 0\n",
    "    first_nota = int(input('Número da primeira nota: '))\n",
    "    last_nota = first_nota\n",
    "    nota = float(input('Valor da nota: '))\n",
    "    while nota != 0:\n",
    "        notas_somadas.append(nota)\n",
    "        valor_total += nota\n",
    "        last_nota += 1\n",
    "        nota = float(input('Valor da nota: '))\n",
    "    else:\n",
    "        print(\"Somatório das notas \"+str(first_nota)+\" a \"+str(last_nota))\n",
    "        print(\"valor total: \"+str(valor_total))\n",
    "        print(notas_somadas)\n",
    "        \n",
    "        again()\n",
    "    \n",
    "#definindo a função para realizar nova operação    \n",
    "def again():\n",
    "    calc_again = input('Deseja calcular de novo? S/N: ')\n",
    "    \n",
    "    if calc_again == \"s\":\n",
    "        start()\n",
    "        \n",
    "    else:\n",
    "        print(\"Até logo\")\n",
    "        \n",
    "#definindo o menu inicial\n",
    "def start():\n",
    "    print(\"\"\"\"\n",
    "    Olá, essas são as ferramentas disponiveis:\n",
    "    1. Calculadora de Imposto retido\n",
    "    2. Calculadora de Serie D\n",
    "    \"\"\")\n",
    "    ferramenta = int(input('Escolha uma ferramenta: '))\n",
    "    if ferramenta == 1:\n",
    "        retencao_calc()\n",
    "    if ferramenta == 2:\n",
    "        seried_calc()\n",
    "    else:\n",
    "        print('Escolha inválida, tente novamente!')\n",
    "        start()\n",
    "        \n",
    "start()\n",
    "        "
   ]
  },
  {
   "cell_type": "code",
   "execution_count": null,
   "id": "898cf600",
   "metadata": {},
   "outputs": [],
   "source": []
  }
 ],
 "metadata": {
  "kernelspec": {
   "display_name": "Python 3 (ipykernel)",
   "language": "python",
   "name": "python3"
  },
  "language_info": {
   "codemirror_mode": {
    "name": "ipython",
    "version": 3
   },
   "file_extension": ".py",
   "mimetype": "text/x-python",
   "name": "python",
   "nbconvert_exporter": "python",
   "pygments_lexer": "ipython3",
   "version": "3.11.5"
  }
 },
 "nbformat": 4,
 "nbformat_minor": 5
}
