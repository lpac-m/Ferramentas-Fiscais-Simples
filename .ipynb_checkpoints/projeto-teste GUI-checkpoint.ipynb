{
 "cells": [
  {
   "cell_type": "code",
   "execution_count": 2,
   "id": "f4c8abd6",
   "metadata": {},
   "outputs": [],
   "source": [
    "import tkinter as tk\n",
    "tk._test()"
   ]
  },
  {
   "cell_type": "code",
   "execution_count": 25,
   "id": "41aa7076",
   "metadata": {},
   "outputs": [],
   "source": [
    "window = tk.Tk()\n",
    "window.title(\"TESTE\")\n",
    "greetings = tk.Label(window, text='Olá, boa tarde').pack()\n",
    "window.mainloop()\n"
   ]
  },
  {
   "cell_type": "code",
   "execution_count": 55,
   "id": "6a4e23d4",
   "metadata": {},
   "outputs": [],
   "source": [
    "window = tk.Tk()\n",
    "window.title(\"TESTE\")\n",
    "top_frame = tk.Frame(window).pack()\n",
    "bottom_frame = tk.Frame(window).pack()\n",
    "greetings = tk.Label(top_frame, text='Olá, boa tarde').pack()\n",
    "btn1 = tk.Button(bottom_frame, text=\"btn test\").pack()\n",
    "window.mainloop()"
   ]
  },
  {
   "cell_type": "code",
   "execution_count": 64,
   "id": "38a6c5fa",
   "metadata": {},
   "outputs": [],
   "source": [
    "def calculadora_seried():   \n",
    "        \n",
    "    window = tk.Tk()\n",
    "    window.title(\"Calculadora Serie D\")\n",
    "    window.geometry('400x400')\n",
    "\n",
    "    notas_somadas = []\n",
    "    valor_total = 0\n",
    "    \n",
    "    label0 = tk.Label(window, text='Calculadora de Série D').grid(row=0)\n",
    "    label1 = tk.Label(window, text='Número da primeira nota: ').grid(row=1, column=0)\n",
    "    first_nota = tk.Entry(window).grid(row=1,column=1)\n",
    "    label2 = tk.Label(window, text='Valor da Nota: ').grid(row=2, column=0)\n",
    "    nota = tk.Entry(window).grid(row=2, column=1)\n",
    "    btn1 = tk.Button(window, text='Prosseguir').grid(row=2,column=2)\n",
    "    \n",
    "    \n",
    "    \n",
    "    window.mainloop()\n",
    "\n",
    "    \n",
    "calculadora_seried()"
   ]
  },
  {
   "cell_type": "code",
   "execution_count": 76,
   "id": "b338c9d2",
   "metadata": {},
   "outputs": [],
   "source": [
    "window = tk.Tk()\n",
    "window.title(\"Calculadora Serie D\")\n",
    "window.geometry('400x400')\n",
    "\n",
    "title_frame = tk.Frame(window,height=50)\n",
    "tool_frame = tk.Frame(window, height=350)\n",
    "notas_somadas = []\n",
    "valor_total = 0\n",
    "    \n",
    "label0 = tk.Label(title_frame, text='Calculadora de Série D',justify='center')\n",
    "label1 = tk.Label(window, text='Número da primeira nota: ').grid(row=0, column=0)\n",
    "first_nota = tk.Entry(window).grid(row=0,column=1)\n",
    "label2 = tk.Label(window, text='Valor da Nota: ').grid(row=1, column=0)\n",
    "nota = tk.Entry(window).grid(row=1, column=1)\n",
    "btn1 = tk.Button(window, text='Prosseguir').grid(row=1,column=2)\n",
    "    \n",
    "    \n",
    "    \n",
    "window.mainloop()"
   ]
  },
  {
   "cell_type": "code",
   "execution_count": 4,
   "id": "693e8c2a",
   "metadata": {},
   "outputs": [],
   "source": [
    "def serieD_calc():\n",
    "    sdc_frame = tk.Frame(window).pack()\n",
    "    \n",
    "    sdc_label_title = tk.Label(sdc_frame,text='Calculadora de Série D').pack()\n",
    "\n",
    "window = tk.Tk()\n",
    "window.title(\"Ferramenta do Fiscal\")\n",
    "window.geometry('400x400')\n",
    "\n",
    "main_frame = tk.Frame(window).pack()\n",
    "\n",
    "select_label = tk.Label(main_frame,text='Olá, selecione a ferramenta desejada:',justify='center').pack()\n",
    "btn_sdc = tk.Button(main_frame,text='Calculadora de Série D', command=lambda:serieD_calc).pack()\n",
    "btn_ret = tk.Button(main_frame, text='Calculadora Imposto Retido na Nota').pack()\n",
    "\n",
    "window.mainloop()\n"
   ]
  },
  {
   "cell_type": "code",
   "execution_count": null,
   "id": "e24cbd8e",
   "metadata": {},
   "outputs": [],
   "source": []
  }
 ],
 "metadata": {
  "kernelspec": {
   "display_name": "Python 3 (ipykernel)",
   "language": "python",
   "name": "python3"
  },
  "language_info": {
   "codemirror_mode": {
    "name": "ipython",
    "version": 3
   },
   "file_extension": ".py",
   "mimetype": "text/x-python",
   "name": "python",
   "nbconvert_exporter": "python",
   "pygments_lexer": "ipython3",
   "version": "3.11.5"
  }
 },
 "nbformat": 4,
 "nbformat_minor": 5
}
